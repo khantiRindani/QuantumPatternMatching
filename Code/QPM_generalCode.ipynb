{
 "cells": [
  {
   "cell_type": "markdown",
   "metadata": {},
   "source": [
    "## Algorithm for Quantum Pattern Matching\n",
    "\n",
    "## References:\n",
    "### (1) Quantum Pattern Matching - P. Mateus and Y. Omar\n",
    "### (2) Quantum Algorithms for pattern-matching in genomic sequences - Aritra Sarkar"
   ]
  },
  {
   "cell_type": "code",
   "execution_count": 1,
   "metadata": {},
   "outputs": [],
   "source": [
    "from qiskit import QuantumCircuit, QuantumRegister, ClassicalRegister\n",
    "from qiskit import(\n",
    "  execute,\n",
    "  Aer)\n",
    "from math import *\n",
    "import numpy as np\n",
    "import matplotlib.pyplot as plt"
   ]
  },
  {
   "cell_type": "code",
   "execution_count": 2,
   "metadata": {},
   "outputs": [],
   "source": [
    "def randStr(A,N):\n",
    "    bias = 1/A\n",
    "    rbs = \"\"\n",
    "    for i in range(0,N):\n",
    "        rn = np.random.random()\n",
    "        for j in range(0,A):\n",
    "            if rn < (j+1)*bias:\n",
    "                rbs = rbs + str(j)\n",
    "                break\n",
    "    return rbs"
   ]
  },
  {
   "cell_type": "code",
   "execution_count": 3,
   "metadata": {},
   "outputs": [],
   "source": [
    "AS = {'0','1'}           # alphabet\n",
    "A = len(AS)\n",
    "N = 11\n",
    "w = randStr(A,N)         # string (source)\n",
    "M = 3\n",
    "ans = 2\n",
    "p = w[ans:ans+M]         # pattern (to be matched)\n",
    "\n",
    "s = ceil(log2(N-M))+1\n",
    "Q_D = s*M                # data qubits\n",
    "Q_anc = 1                # ancilla qubits         \n",
    "anc = Q_D\n",
    "tot_q = Q_D + Q_anc      # total qubits"
   ]
  },
  {
   "cell_type": "code",
   "execution_count": 4,
   "metadata": {},
   "outputs": [],
   "source": [
    "def nCX(q,circuit,nc,j,anc):\n",
    "    nnc = len(nc)\n",
    "    if nnc==1:\n",
    "        circuit.h(q[j])\n",
    "        circuit.cx(q[nc[0]],q[j])\n",
    "        circuit.h(q[j])\n",
    "    elif nnc==2:\n",
    "        circuit.h(q[j])\n",
    "        circuit.ccx(q[nc[0]],q[nc[1]],q[j])\n",
    "        circuit.h(q[j])\n",
    "    else:\n",
    "        nch = ceil(nnc/2)\n",
    "        c1 = nc[:nch]\n",
    "        c2 = nc[nch:]\n",
    "        c2.append(anc)\n",
    "        nCX(q,circuit,c1,anc,nch)\n",
    "        nCX(q,circuit,c2,j,nch-2)\n",
    "        nCX(q,circuit,c1,anc,nch)\n",
    "        nCX(q,circuit,c2,j,nch-2)\n",
    "    return"
   ]
  },
  {
   "cell_type": "markdown",
   "metadata": {},
   "source": [
    "# Initialization circuit:"
   ]
  },
  {
   "cell_type": "code",
   "execution_count": 5,
   "metadata": {
    "scrolled": true
   },
   "outputs": [],
   "source": [
    "def circ1(q,circuit,N,M,anc):\n",
    "    for i in range(0,s):\n",
    "        circuit.h(q[i])\n",
    "    for m in range(0,M-1):\n",
    "        for i in range(0,s):\n",
    "            circuit.cx(q[m*s+i],q[(m+1)*s+i])\n",
    "        for i in range(0,s):\n",
    "            ic = (m+1)*s - (i+1)\n",
    "            circuit.x(q[ic])\n",
    "            nc = []\n",
    "            for j in range(ic,(m+1)*s):\n",
    "                nc.append(j)\n",
    "            for j in range((m+2)*s-1,s+ic-1,-1):\n",
    "                nCX(q,circuit,nc,j,anc)\n",
    "            circuit.x(q[ic])\n",
    "    return"
   ]
  },
  {
   "cell_type": "markdown",
   "metadata": {},
   "source": [
    "# Oracle creation:"
   ]
  },
  {
   "cell_type": "code",
   "execution_count": 6,
   "metadata": {},
   "outputs": [],
   "source": [
    "def circ2(q,circuit,bf,ind,N,M,anc):\n",
    "    for i in range(0,len(bf)):\n",
    "        if bf[i] == '1':\n",
    "            fis = format(i, '0'+str(s)+'b')\n",
    "            \n",
    "            for fisi in range(0,s):\n",
    "                if fis[fisi] == '0':\n",
    "                    circuit.x(q[ind*s+fisi])\n",
    "                    \n",
    "            circuit.h(q[(ind+1)*s-1])\n",
    "            \n",
    "            nc = []\n",
    "            for j in range(ind*s,(ind+1)*s-1):\n",
    "                nc.append(j)\n",
    "            nCX(q,circuit,nc,(ind+1)*s-1,anc-1)\n",
    "            \n",
    "            circuit.h(q[(ind+1)*s-1])\n",
    "            \n",
    "            for fisi in range(0,s):\n",
    "                if fis[fisi] == '1':\n",
    "                    circuit.x(q[ind*s+fisi])\n",
    "    return"
   ]
  },
  {
   "cell_type": "markdown",
   "metadata": {},
   "source": [
    "# Grover Implementation and Amplitude Amplification:"
   ]
  },
  {
   "cell_type": "code",
   "execution_count": 7,
   "metadata": {},
   "outputs": [],
   "source": [
    "def circ3(q,circuit,N,M):\n",
    "    for i in range(0,s*M):\n",
    "        circuit.h(q[i])\n",
    "        circuit.x(q[i])\n",
    "    circuit.h(q[s*M-1])\n",
    "    nc = []\n",
    "    for j in range(0,s*M-1):\n",
    "        nc.append(j)\n",
    "    nCX(q,circuit,nc,s*M-1,s*M-1)\n",
    "    circuit.h(q[s*M-1])\n",
    "    for i in range(s*M):\n",
    "        circuit.x(q[i])\n",
    "        circuit.h(q[i])\n",
    "    return"
   ]
  },
  {
   "cell_type": "markdown",
   "metadata": {},
   "source": [
    "# Measurement Circuit:"
   ]
  },
  {
   "cell_type": "code",
   "execution_count": 8,
   "metadata": {},
   "outputs": [],
   "source": [
    "def circ4(q,c,circuit,N,M):\n",
    "    for i in range(s):\n",
    "        circuit.measure(q[i],c[i])\n",
    "    return"
   ]
  },
  {
   "cell_type": "code",
   "execution_count": 9,
   "metadata": {},
   "outputs": [],
   "source": [
    "def QPM(AS,w,p):\n",
    "    \n",
    "    A = len(AS)\n",
    "    N = len(w)\n",
    "    M = len(p)\n",
    "    Q_D = s*M\n",
    "    Q_anc = 1\n",
    "    anc = Q_D\n",
    "    tot_q = Q_D + Q_anc\n",
    "    \n",
    "    q = QuantumRegister(tot_q,'phi')\n",
    "    c = ClassicalRegister(tot_q)\n",
    "    circuit = QuantumCircuit(q,c)\n",
    "    \n",
    "    circ1(q,circuit,N,M,anc)\n",
    "    \n",
    "    bfa = ''.join('1' if w[i] == '0' else '0' for i in range(N))\n",
    "    bfc = ''.join('1' if w[i] == '1' else '0' for i in range(N))\n",
    "    bfg = ''.join('1' if w[i] == '2' else '0' for i in range(N))\n",
    "    bft = ''.join('1' if w[i] == '3' else '0' for i in range(N))\n",
    "    \n",
    "    for r in range(0,int(sqrt(N-M+1))):\n",
    "        ind = np.random.randint(0,M-1)\n",
    "        if p[ind] == '0':\n",
    "            circ2(q,circuit,bfa,ind,N,M,anc)\n",
    "        elif p[ind] == '1':\n",
    "            circ2(q,circuit,bfc,ind,N,M,anc)\n",
    "#         elif p[ind] == '2':\n",
    "#             c2 = circ2(q,bfg,ind,N,M,anc)\n",
    "#         elif p[ind] == '3':\n",
    "#             c2 = circ2(q,bft,ind,N,M,anc)\n",
    "                        \n",
    "        circ3(q,circuit,N,M)\n",
    "    \n",
    "    circ4(q,c,circuit,N,M)\n",
    "    \n",
    "    simulator = Aer.get_backend('qasm_simulator')\n",
    "    job = execute(circuit, simulator, shots=1024)\n",
    "    result = job.result()\n",
    "    counts = result.get_counts(circuit)\n",
    "    for i in counts:\n",
    "        print(i,counts[i])"
   ]
  },
  {
   "cell_type": "code",
   "execution_count": 10,
   "metadata": {},
   "outputs": [
    {
     "name": "stdout",
     "output_type": "stream",
     "text": [
      "Alphabet:  {'0', '1'}\n",
      "N:  11 M:  3\n",
      "w:  10110001111\n",
      "p:  110\n",
      "0000000000001 59\n",
      "0000000000101 64\n",
      "0000000000011 55\n",
      "0000000000010 68\n",
      "0000000001010 69\n",
      "0000000000100 71\n",
      "0000000001100 65\n",
      "0000000001110 53\n",
      "0000000001000 64\n",
      "0000000000000 65\n",
      "0000000000111 58\n",
      "0000000001111 67\n",
      "0000000000110 66\n",
      "0000000001101 69\n",
      "0000000001001 65\n",
      "0000000001011 66\n"
     ]
    }
   ],
   "source": [
    "print(\"Alphabet: \",AS)\n",
    "print(\"N: \",N,\"M: \",M)\n",
    "print(\"w: \",w)\n",
    "print(\"p: \",p)\n",
    "QPM(AS,w,p)"
   ]
  }
 ],
 "metadata": {
  "kernelspec": {
   "display_name": "Python 3",
   "language": "python",
   "name": "python3"
  },
  "language_info": {
   "codemirror_mode": {
    "name": "ipython",
    "version": 3
   },
   "file_extension": ".py",
   "mimetype": "text/x-python",
   "name": "python",
   "nbconvert_exporter": "python",
   "pygments_lexer": "ipython3",
   "version": "3.6.8"
  }
 },
 "nbformat": 4,
 "nbformat_minor": 2
}
