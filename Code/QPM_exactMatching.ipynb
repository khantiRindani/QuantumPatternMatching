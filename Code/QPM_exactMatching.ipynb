{
 "cells": [
  {
   "cell_type": "markdown",
   "metadata": {},
   "source": [
    "Quantum Exact Pattern Matching with Grover Search"
   ]
  },
  {
   "cell_type": "code",
   "execution_count": 1,
   "metadata": {},
   "outputs": [],
   "source": [
    "from qiskit import QuantumCircuit, QuantumRegister\n",
    "import math\n",
    "import numpy as np\n",
    "import matplotlib.pyplot as plt\n",
    "#circuit.measure(quantumbits,classicalbits)"
   ]
  },
  {
   "cell_type": "code",
   "execution_count": 2,
   "metadata": {},
   "outputs": [
    {
     "data": {
      "text/plain": [
       "<AccountProvider for IBMQ(hub='ibm-q', group='open', project='main')>"
      ]
     },
     "execution_count": 2,
     "metadata": {},
     "output_type": "execute_result"
    }
   ],
   "source": [
    "from qiskit import IBMQ\n",
    "IBMQ.load_account()"
   ]
  },
  {
   "cell_type": "code",
   "execution_count": 3,
   "metadata": {},
   "outputs": [
    {
     "name": "stdout",
     "output_type": "stream",
     "text": [
      "[-1, 2]\n",
      "0.3128805160522461\n"
     ]
    }
   ],
   "source": [
    "import numpy as np\n",
    "import time\n",
    "from qiskit import BasicAer\n",
    "from qiskit.tools.visualization import plot_histogram\n",
    "from qiskit.aqua import QuantumInstance, run_algorithm\n",
    "from qiskit.aqua.algorithms import Grover\n",
    "from qiskit.aqua.components.oracles import LogicalExpressionOracle, TruthTableOracle\n",
    "\n",
    "# Oracle in CNF form:\n",
    "# control bits: v1,v2\n",
    "# Max-terms as CNF\n",
    "# 0 as line-endings\n",
    "\n",
    "input_f = '''\n",
    "c example DIMACS-CNF pattern-matching 1011,01\n",
    "p cnf 2 4\n",
    "-1 -2 0\n",
    "-1 2 0\n",
    "1 2 0\n",
    "-1 2 0\n",
    "'''\n",
    "\n",
    "#Expected index as anser is: 1 = 01 in binary\n",
    "oracle = LogicalExpressionOracle(input_f)\n",
    "grover = Grover(oracle)\n",
    "backend = BasicAer.get_backend('qasm_simulator')\n",
    "quantum_instance = QuantumInstance(backend, shots=1)\n",
    "start_t = time.time()\n",
    "result = grover.run(quantum_instance)\n",
    "print(result['result']) # ~v1^v2 = -1,2 expected\n",
    "\n",
    "print(time.time()-start_t)"
   ]
  },
  {
   "cell_type": "code",
   "execution_count": 18,
   "metadata": {},
   "outputs": [
    {
     "name": "stdout",
     "output_type": "stream",
     "text": [
      "[-1, 2, -3]\n",
      "1.518296718597412\n"
     ]
    }
   ],
   "source": [
    "inp = '''\n",
    "p cnf 3 12\n",
    "-1 -2 -3 0\n",
    "-1 -2 3 0\n",
    "-1 2 -3 0\n",
    "-1 2 3 0\n",
    "-1 2 -3 0\n",
    "-1 2 3 0\n",
    "1 2 -3 0\n",
    "1 2 3 0\n",
    "-1 -2 -3 0\n",
    "-1 2 -3 0\n",
    "1 -2 -3 0\n",
    "1 2 -3 0\n",
    "'''\n",
    "\n",
    "oracle = LogicalExpressionOracle(inp)\n",
    "grover = Grover(oracle)\n",
    "backend = BasicAer.get_backend('qasm_simulator')\n",
    "quantum_instance = QuantumInstance(backend, shots=1)\n",
    "start_t = time.time()\n",
    "result = grover.run(quantum_instance)\n",
    "print(result['result'])\n",
    "\n",
    "print(time.time()-start_t)\n"
   ]
  },
  {
   "cell_type": "code",
   "execution_count": 9,
   "metadata": {},
   "outputs": [
    {
     "data": {
      "image/png": "[encoded data removed]",
      "text/plain": [
       "<Figure size 504x360 with 1 Axes>"
      ]
     },
     "execution_count": 9,
     "metadata": {},
     "output_type": "execute_result"
    }
   ],
   "source": [
    "plot_histogram(result['measurement'])"
   ]
  }
 ],
 "metadata": {
  "kernelspec": {
   "display_name": "Python 3",
   "language": "python",
   "name": "python3"
  },
  "language_info": {
   "codemirror_mode": {
    "name": "ipython",
    "version": 3
   },
   "file_extension": ".py",
   "mimetype": "text/x-python",
   "name": "python",
   "nbconvert_exporter": "python",
   "pygments_lexer": "ipython3",
   "version": "3.6.8"
  }
 },
 "nbformat": 4,
 "nbformat_minor": 2
}
