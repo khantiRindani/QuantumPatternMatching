{
 "cells": [
  {
   "cell_type": "markdown",
   "metadata": {},
   "source": [
    "Quantum Circuit for Closest Pattern Matching with particular set of strings\n",
    "\n",
    "References: \n",
    "1)A Quantum Algorithm for Closest Pattern Matching by P Mateus and Y Omar\n",
    "2)Grover Circuit Building (Oracle + Amplitude Amplification) https://community.qiskit.org/textbook/ch-algorithms/grover.html"
   ]
  },
  {
   "cell_type": "code",
   "execution_count": 29,
   "metadata": {},
   "outputs": [],
   "source": [
    "from qiskit import QuantumCircuit, QuantumRegister, ClassicalRegister, Aer, execute\n",
    "import math\n",
    "import numpy as np\n",
    "import matplotlib.pyplot as plt\n",
    "from qiskit.tools.visualization import plot_histogram"
   ]
  },
  {
   "cell_type": "code",
   "execution_count": 31,
   "metadata": {},
   "outputs": [
    {
     "name": "stderr",
     "output_type": "stream",
     "text": [
      "/usr/local/lib/python3.6/dist-packages/qiskit/providers/ibmq/ibmqfactory.py:181: UserWarning: Credentials are already in use. The existing account in the session will be replaced.\n",
      "  warnings.warn('Credentials are already in use. The existing '\n"
     ]
    }
   ],
   "source": [
    "IBMQ.load_account()\n",
    "provider = IBMQ.get_provider(hub='ibm-q')\n",
    "backend = provider.get_backend('ibmq_16_melbourne')"
   ]
  },
  {
   "cell_type": "code",
   "execution_count": 2,
   "metadata": {},
   "outputs": [],
   "source": [
    "def initialize(q,circuit):\n",
    "    circuit.h(q[0])\n",
    "    circuit.h(q[1])\n",
    "    \n",
    "    circuit.cx(q[0],q[2])\n",
    "    circuit.cx(q[1],q[3])\n",
    "    \n",
    "    circuit.x(q[0])\n",
    "    circuit.x(q[1])\n",
    "    circuit.cx(q[1],q[3])\n",
    "    circuit.x(q[1])\n",
    "    \n",
    "    circuit.ccx(q[0],q[1],q[2])\n",
    "    circuit.ccx(q[0],q[1],q[3])\n",
    "    \n",
    "    circuit.x(q[0])\n",
    "    circuit.barrier()"
   ]
  },
  {
   "cell_type": "code",
   "execution_count": 4,
   "metadata": {},
   "outputs": [],
   "source": [
    "def amplitude_amp(q,a,circuit):\n",
    "    for i in range(4):\n",
    "        circuit.h(q[i])\n",
    "        circuit.x(q[i])\n",
    "    circuit.barrier()\n",
    "    \n",
    "    circuit.h(q[3])\n",
    "    \n",
    "    circuit.ccx(q[0],q[1],a[0])\n",
    "    circuit.ccx(q[2],a[0],a[1])\n",
    "    circuit.cx(a[1],q[3])\n",
    "    circuit.ccx(q[2],a[0],a[1])\n",
    "    circuit.ccx(q[0],q[1],a[0])\n",
    "    \n",
    "    circuit.h(q[3])\n",
    "    \n",
    "    circuit.barrier()\n",
    "    for i in range(4):\n",
    "        circuit.h(q[i])\n",
    "        circuit.x(q[i])\n",
    "    circuit.barrier()"
   ]
  },
  {
   "cell_type": "code",
   "execution_count": 3,
   "metadata": {},
   "outputs": [],
   "source": [
    "def grover(q,a,circuit):\n",
    "    circuit.cz(q[1],q[0])\n",
    "    circuit.cz(q[3],q[0])\n",
    "    circuit.barrier()\n",
    "    \n",
    "    amplitude_amp(q,a,circuit)\n",
    "    \n",
    "    circuit.cz(q[2],q[0])\n",
    "    circuit.barrier()\n",
    "    amplitude_amp(q,a,circuit)"
   ]
  },
  {
   "cell_type": "code",
   "execution_count": 12,
   "metadata": {},
   "outputs": [],
   "source": [
    "def measure(q,c,circuit):\n",
    "    circuit.measure(q,c)"
   ]
  },
  {
   "cell_type": "code",
   "execution_count": 26,
   "metadata": {},
   "outputs": [],
   "source": [
    "def run_qcircuit(circuit):\n",
    "    backend = Aer.get_backend('qasm_simulator')\n",
    "    job = execute(circuit,backend,shots=1024)\n",
    "    result = job.result()\n",
    "    counts = result.get_counts()\n",
    "    for c in counts:\n",
    "        print(c,counts[c])\n",
    "    plot_histogram(counts)"
   ]
  },
  {
   "cell_type": "code",
   "execution_count": 22,
   "metadata": {},
   "outputs": [],
   "source": [
    "q = QuantumRegister(4)\n",
    "a = QuantumRegister(2)\n",
    "c = ClassicalRegister(4)\n",
    "circuit = QuantumCircuit(q,a,c)"
   ]
  },
  {
   "cell_type": "code",
   "execution_count": 23,
   "metadata": {},
   "outputs": [
    {
     "data": {
      "text/html": [
       "<pre style=\"word-wrap: normal;white-space: pre;background: #fff0;line-height: 1.1;font-family: &quot;Courier New&quot;,Courier,monospace\">         ┌───┐     ┌───┐                         ┌───┐ ░        ░ ┌───┐┌───┐ ░ »\n",
       "q6_0: |0>┤ H ├──■──┤ X ├─────────────────■────■──┤ X ├─░──■──■──░─┤ H ├┤ X ├─░─»\n",
       "         ├───┤  │  └───┘┌───┐     ┌───┐  │    │  └───┘ ░  │  │  ░ ├───┤├───┤ ░ »\n",
       "q6_1: |0>┤ H ├──┼────■──┤ X ├──■──┤ X ├──■────■────────░──■──┼──░─┤ H ├┤ X ├─░─»\n",
       "         └───┘┌─┴─┐  │  └───┘  │  └───┘┌─┴─┐  │        ░     │  ░ ├───┤├───┤ ░ »\n",
       "q6_2: |0>─────┤ X ├──┼─────────┼───────┤ X ├──┼────────░─────┼──░─┤ H ├┤ X ├─░─»\n",
       "              └───┘┌─┴─┐     ┌─┴─┐     └───┘┌─┴─┐      ░     │  ░ ├───┤├───┤ ░ »\n",
       "q6_3: |0>──────────┤ X ├─────┤ X ├──────────┤ X ├──────░─────■──░─┤ H ├┤ X ├─░─»\n",
       "                   └───┘     └───┘          └───┘      ░        ░ └───┘└───┘ ░ »\n",
       "q7_0: |0>──────────────────────────────────────────────░────────░────────────░─»\n",
       "                                                       ░        ░            ░ »\n",
       "q7_1: |0>──────────────────────────────────────────────░────────░────────────░─»\n",
       "                                                       ░        ░            ░ »\n",
       " c2_0: 0 ══════════════════════════════════════════════════════════════════════»\n",
       "                                                                               »\n",
       " c2_1: 0 ══════════════════════════════════════════════════════════════════════»\n",
       "                                                                               »\n",
       " c2_2: 0 ══════════════════════════════════════════════════════════════════════»\n",
       "                                                                               »\n",
       " c2_3: 0 ══════════════════════════════════════════════════════════════════════»\n",
       "                                                                               »\n",
       "«                                          ░ ┌───┐┌───┐ ░     ░ ┌───┐┌───┐ ░ »\n",
       "«q6_0: ───────■────────────────────────■───░─┤ H ├┤ X ├─░──■──░─┤ H ├┤ X ├─░─»\n",
       "«             │                        │   ░ ├───┤├───┤ ░  │  ░ ├───┤├───┤ ░ »\n",
       "«q6_1: ───────■────────────────────────■───░─┤ H ├┤ X ├─░──┼──░─┤ H ├┤ X ├─░─»\n",
       "«             │                        │   ░ ├───┤├───┤ ░  │  ░ ├───┤├───┤ ░ »\n",
       "«q6_2: ───────┼────■─────────■─────────┼───░─┤ H ├┤ X ├─░──■──░─┤ H ├┤ X ├─░─»\n",
       "«      ┌───┐  │    │  ┌───┐  │  ┌───┐  │   ░ ├───┤├───┤ ░     ░ ├───┤├───┤ ░ »\n",
       "«q6_3: ┤ H ├──┼────┼──┤ X ├──┼──┤ H ├──┼───░─┤ H ├┤ X ├─░─────░─┤ H ├┤ X ├─░─»\n",
       "«      └───┘┌─┴─┐  │  └─┬─┘  │  └───┘┌─┴─┐ ░ └───┘└───┘ ░     ░ └───┘└───┘ ░ »\n",
       "«q7_0: ─────┤ X ├──■────┼────■───────┤ X ├─░────────────░─────░────────────░─»\n",
       "«           └───┘┌─┴─┐  │  ┌─┴─┐     └───┘ ░            ░     ░            ░ »\n",
       "«q7_1: ──────────┤ X ├──■──┤ X ├───────────░────────────░─────░────────────░─»\n",
       "«                └───┘     └───┘           ░            ░     ░            ░ »\n",
       "«c2_0: ══════════════════════════════════════════════════════════════════════»\n",
       "«                                                                            »\n",
       "«c2_1: ══════════════════════════════════════════════════════════════════════»\n",
       "«                                                                            »\n",
       "«c2_2: ══════════════════════════════════════════════════════════════════════»\n",
       "«                                                                            »\n",
       "«c2_3: ══════════════════════════════════════════════════════════════════════»\n",
       "«                                                                            »\n",
       "«                                          ░ ┌───┐┌───┐ ░ ┌─┐         \n",
       "«q6_0: ───────■────────────────────────■───░─┤ H ├┤ X ├─░─┤M├─────────\n",
       "«             │                        │   ░ ├───┤├───┤ ░ └╥┘┌─┐      \n",
       "«q6_1: ───────■────────────────────────■───░─┤ H ├┤ X ├─░──╫─┤M├──────\n",
       "«             │                        │   ░ ├───┤├───┤ ░  ║ └╥┘┌─┐   \n",
       "«q6_2: ───────┼────■─────────■─────────┼───░─┤ H ├┤ X ├─░──╫──╫─┤M├───\n",
       "«      ┌───┐  │    │  ┌───┐  │  ┌───┐  │   ░ ├───┤├───┤ ░  ║  ║ └╥┘┌─┐\n",
       "«q6_3: ┤ H ├──┼────┼──┤ X ├──┼──┤ H ├──┼───░─┤ H ├┤ X ├─░──╫──╫──╫─┤M├\n",
       "«      └───┘┌─┴─┐  │  └─┬─┘  │  └───┘┌─┴─┐ ░ └───┘└───┘ ░  ║  ║  ║ └╥┘\n",
       "«q7_0: ─────┤ X ├──■────┼────■───────┤ X ├─░────────────░──╫──╫──╫──╫─\n",
       "«           └───┘┌─┴─┐  │  ┌─┴─┐     └───┘ ░            ░  ║  ║  ║  ║ \n",
       "«q7_1: ──────────┤ X ├──■──┤ X ├───────────░────────────░──╫──╫──╫──╫─\n",
       "«                └───┘     └───┘           ░            ░  ║  ║  ║  ║ \n",
       "«c2_0: ════════════════════════════════════════════════════╩══╬══╬══╬═\n",
       "«                                                             ║  ║  ║ \n",
       "«c2_1: ═══════════════════════════════════════════════════════╩══╬══╬═\n",
       "«                                                                ║  ║ \n",
       "«c2_2: ══════════════════════════════════════════════════════════╩══╬═\n",
       "«                                                                   ║ \n",
       "«c2_3: ═════════════════════════════════════════════════════════════╩═\n",
       "«                                                                     </pre>"
      ],
      "text/plain": [
       "<qiskit.visualization.text.TextDrawing at 0x7f421776dc50>"
      ]
     },
     "execution_count": 23,
     "metadata": {},
     "output_type": "execute_result"
    }
   ],
   "source": [
    "initialize(q,circuit)\n",
    "grover(q,a,circuit)\n",
    "measure(q,c,circuit)\n",
    "circuit.draw()"
   ]
  },
  {
   "cell_type": "code",
   "execution_count": 28,
   "metadata": {},
   "outputs": [
    {
     "name": "stdout",
     "output_type": "stream",
     "text": [
      "0110 15\n",
      "0010 165\n",
      "1111 21\n",
      "0111 16\n",
      "0011 132\n",
      "1101 135\n",
      "0001 13\n",
      "0000 18\n",
      "1110 15\n",
      "1001 125\n",
      "0101 147\n",
      "1000 11\n",
      "0100 15\n",
      "1011 13\n",
      "1100 168\n",
      "1010 15\n"
     ]
    },
    {
     "data": {
      "image/png": "[encoded data removed]",
      "text/plain": [
       "<Figure size 504x360 with 1 Axes>"
      ]
     },
     "execution_count": 28,
     "metadata": {},
     "output_type": "execute_result"
    }
   ],
   "source": [
    "#backend = Aer.get_backend('qasm_simulator')\n",
    "job = execute(circuit,backend,shots=1024)\n",
    "result = job.result()\n",
    "counts = result.get_counts()\n",
    "for c in counts:\n",
    "    print(c,counts[c])\n",
    "plot_histogram(counts)"
   ]
  }
 ],
 "metadata": {
  "kernelspec": {
   "display_name": "Python 3",
   "language": "python",
   "name": "python3"
  },
  "language_info": {
   "codemirror_mode": {
    "name": "ipython",
    "version": 3
   },
   "file_extension": ".py",
   "mimetype": "text/x-python",
   "name": "python",
   "nbconvert_exporter": "python",
   "pygments_lexer": "ipython3",
   "version": "3.6.8"
  }
 },
 "nbformat": 4,
 "nbformat_minor": 2
}
